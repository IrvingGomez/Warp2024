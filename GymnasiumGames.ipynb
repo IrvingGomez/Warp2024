{
 "cells": [
  {
   "cell_type": "code",
   "execution_count": 1,
   "metadata": {},
   "outputs": [],
   "source": [
    "import gymnasium as gym\n",
    "from gymnasium.utils.play import play"
   ]
  },
  {
   "cell_type": "code",
   "execution_count": null,
   "metadata": {},
   "outputs": [],
   "source": [
    "play(gym.make('LunarLander-v2', render_mode='rgb_array'), keys_to_action={'w': 2, 'a': 1, 'd': 3}, noop=0)"
   ]
  },
  {
   "cell_type": "code",
   "execution_count": 2,
   "metadata": {},
   "outputs": [],
   "source": [
    "play(gym.make('Taxi-v3', render_mode='rgb_array'), keys_to_action={'w': 1, 'a': 3, 'd': 2, 's':0, 'q':4, 'e':5}, noop=4)"
   ]
  },
  {
   "cell_type": "code",
   "execution_count": null,
   "metadata": {},
   "outputs": [],
   "source": [
    "#0: Move south (down)\n",
    "#1: Move north (up)\n",
    "#2: Move east (right)\n",
    "#3: Move west (left)\n",
    "#4: Pickup passenger\n",
    "#5: Drop off passenger"
   ]
  },
  {
   "cell_type": "code",
   "execution_count": 4,
   "metadata": {},
   "outputs": [],
   "source": [
    "play(gym.make('CarRacing-v2', render_mode='rgb_array', continuous=False), keys_to_action={'w': 3, 'a': 2, 'd': 1, 's':4}, noop=0)"
   ]
  },
  {
   "cell_type": "code",
   "execution_count": null,
   "metadata": {},
   "outputs": [],
   "source": [
    "#0: do nothing\n",
    "#1: steer left\n",
    "#2: steer right\n",
    "#3: gas\n",
    "#4: brake"
   ]
  }
 ],
 "metadata": {
  "kernelspec": {
   "display_name": "Python 3",
   "language": "python",
   "name": "python3"
  },
  "language_info": {
   "codemirror_mode": {
    "name": "ipython",
    "version": 3
   },
   "file_extension": ".py",
   "mimetype": "text/x-python",
   "name": "python",
   "nbconvert_exporter": "python",
   "pygments_lexer": "ipython3",
   "version": "3.12.3"
  }
 },
 "nbformat": 4,
 "nbformat_minor": 2
}
