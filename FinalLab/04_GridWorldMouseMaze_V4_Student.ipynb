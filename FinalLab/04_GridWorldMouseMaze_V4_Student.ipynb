{
 "cells": [
  {
   "cell_type": "markdown",
   "metadata": {},
   "source": [
    "# 1 Preamble"
   ]
  },
  {
   "cell_type": "code",
   "execution_count": 1,
   "metadata": {},
   "outputs": [],
   "source": [
    "import numpy as np\n",
    "import random\n",
    "\n",
    "import matplotlib.image as mpimg\n",
    "import seaborn as sns"
   ]
  },
  {
   "cell_type": "code",
   "execution_count": 2,
   "metadata": {},
   "outputs": [],
   "source": [
    "TYPE_STATE = range(15)\n",
    "ACTIONS = ['up', 'down', 'left', 'right']\n",
    "ACTIONSYMBOLS = {'up': \"↑\", 'down': \"↓\", 'left': \"←\", 'right': \"→\", '':''}\n",
    "\n",
    "MAZEIMAGE = mpimg.imread('MouseMaze2.png') \n",
    "CHEESEPOSITION = [(0,4)]"
   ]
  },
  {
   "cell_type": "markdown",
   "metadata": {},
   "source": [
    "# 2 Environment"
   ]
  },
  {
   "cell_type": "code",
   "execution_count": 3,
   "metadata": {},
   "outputs": [],
   "source": [
    "Maze = np.array([\n",
    "    [],\n",
    "    [],\n",
    "    [],\n",
    "    [],\n",
    "    [],\n",
    "    [],\n",
    "    [],\n",
    "    [],\n",
    "    [],\n",
    "    []\n",
    "])"
   ]
  },
  {
   "cell_type": "markdown",
   "metadata": {},
   "source": [
    "![MouseMaze.png](MouseMaze.png)"
   ]
  },
  {
   "cell_type": "markdown",
   "metadata": {},
   "source": [
    "# 3 Dynamic environment\n",
    "\n",
    "We determine the next state and reward given the current state and action."
   ]
  },
  {
   "cell_type": "code",
   "execution_count": 4,
   "metadata": {},
   "outputs": [],
   "source": [
    "def NextStateAndReward(Position, Action, Rewards={'tired':0, 'cheese':1}, Environment=Maze):\n",
    "\n",
    "    # General behavior of the actions\n",
    "    if Action == 'up':\n",
    "        NextPosition = (Position[0]-1, Position[1])\n",
    "    elif Action == 'down':\n",
    "        NextPosition = (Position[0]+1, Position[1])\n",
    "    elif Action == 'left':\n",
    "        NextPosition = (Position[0], Position[1]-1)\n",
    "    else:\n",
    "        NextPosition = (Position[0], Position[1]+1)\n",
    "\n",
    "    # Special behavior dor each state\n",
    "    if Environment[Position] == 0:\n",
    "        if Action in ['up', 'left']:\n",
    "            NextPosition = Position\n",
    "    elif Environment[Position] == 1:\n",
    "        if Action in ['up']:\n",
    "            NextPosition = Position\n",
    "    elif Environment[Position] == 2:\n",
    "        if Action in ['up', 'right']:\n",
    "            NextPosition = Position\n",
    "    elif Environment[Position] == 3:\n",
    "        if Action in ['left']:\n",
    "            NextPosition = Position\n",
    "    elif Environment[Position] == 5:\n",
    "        if Action in ['right']:\n",
    "            NextPosition = Position\n",
    "    elif Environment[Position] == 6:\n",
    "        if Action in ['left', 'down']:\n",
    "            NextPosition = Position\n",
    "    elif Environment[Position] == 7:\n",
    "        if Action in ['down']:\n",
    "            NextPosition = Position\n",
    "    elif Environment[Position] == 8:\n",
    "        if Action in ['right', 'down']:\n",
    "            NextPosition = Position\n",
    "    elif Environment[Position] == 9:\n",
    "        if Action in ['right', 'left', 'down']:\n",
    "            NextPosition = Position\n",
    "    elif Environment[Position] == 10:\n",
    "        if Action in ['right', 'up', 'down']:\n",
    "            NextPosition = Position\n",
    "    elif Environment[Position] == 11:\n",
    "        if Action in ['up', 'left', 'down']:\n",
    "            NextPosition = Position\n",
    "    elif Environment[Position] == 12:\n",
    "        if Action in ['right', 'left', 'up']:\n",
    "            NextPosition = Position\n",
    "    elif Environment[Position] == 13:\n",
    "        if Action in ['up', 'down']:\n",
    "            NextPosition = Position\n",
    "    elif Environment[Position] == 14:\n",
    "        if Action in ['right', 'left']:\n",
    "            NextPosition = Position\n",
    "\n",
    "    if NextPosition in CHEESEPOSITION:\n",
    "        Reward = Rewards['cheese']\n",
    "    else:\n",
    "        Reward = Rewards['tired']\n",
    "\n",
    "    return (NextPosition, Reward)"
   ]
  },
  {
   "cell_type": "markdown",
   "metadata": {},
   "source": [
    "## 3.1 Stochastic environment"
   ]
  },
  {
   "cell_type": "markdown",
   "metadata": {},
   "source": [
    "If there is slippery floor, the next action is stochastic."
   ]
  },
  {
   "cell_type": "code",
   "execution_count": 5,
   "metadata": {},
   "outputs": [],
   "source": [
    "SlipperyOpposite = {\n",
    "    'up': {'up':0.8, 'down':0.2, 'left':0, 'right':0},\n",
    "    'down': {'up':0.2, 'down':0.8, 'left':0, 'right':0},\n",
    "    'left': {'up':0, 'down':0, 'left':0.8, 'right':0.2},\n",
    "    'right': {'up':0, 'down':0, 'left':0.2, 'right':0.8}\n",
    "}\n",
    "\n",
    "SlipperyRandom = {\n",
    "    'up': {'up':0.8, 'down':0.2/3, 'left':0.2/3, 'right':0.2/3},\n",
    "    'down': {'up':0.2/3, 'down':0.8, 'left':0.2/3, 'right':0.2/3},\n",
    "    'left': {'up':0.2/3, 'down':0.2/3, 'left':0.8, 'right':0.2/3},\n",
    "    'right': {'up':0.2/3, 'down':0.2/3, 'left':0.2/3, 'right':0.8}\n",
    "}\n",
    "\n",
    "SlipperyRandomNotOpposite = {\n",
    "    'up': {'up':0.8, 'down':0, 'left':0.1, 'right':0.1},\n",
    "    'down': {'up':0, 'down':0.8, 'left':0.1, 'right':0.1},\n",
    "    'left': {'up':0.1, 'down':0.1, 'left':0.8, 'right':0},\n",
    "    'right': {'up':0.1, 'down':0.1, 'left':0, 'right':0.8}\n",
    "}\n",
    "\n",
    "_ = {'up':0.25, 'down':0.25, 'left':0.25, 'right':0.25}\n",
    "SlipperyCompletelyRandom = {'up': _, 'down': _, 'left': _, 'right': _}"
   ]
  },
  {
   "cell_type": "markdown",
   "metadata": {},
   "source": [
    "# 4 Iterative state-action value evaluation"
   ]
  },
  {
   "cell_type": "code",
   "execution_count": 6,
   "metadata": {},
   "outputs": [],
   "source": [
    "def PlotPolicyValue(Policy, Value, DeterministicPolicy=True):\n",
    "    if DeterministicPolicy:\n",
    "        Aux = sns.heatmap(\n",
    "        Value,\n",
    "        annot=np.vectorize(ACTIONSYMBOLS.get)(Policy),\n",
    "        fmt = '',\n",
    "        cmap='RdBu',\n",
    "        vmin=-1,\n",
    "        vmax=1,\n",
    "        #linewidths=0.7,\n",
    "        #linecolor=\"black\",\n",
    "        xticklabels=[],\n",
    "        yticklabels=[],\n",
    "        square=True,\n",
    "        cbar=False\n",
    "        )\n",
    "        \n",
    "        Aux.imshow(MAZEIMAGE,\n",
    "          aspect = Aux.get_aspect(),\n",
    "          extent = Aux.get_xlim() + Aux.get_ylim(),\n",
    "          zorder = 1) #put the map under the heatmap\n",
    "    else:\n",
    "        Aux = sns.heatmap(\n",
    "        Value,\n",
    "        cmap='RdBu',\n",
    "        vmin=-1,\n",
    "        vmax=1,\n",
    "        #linewidths=0.7,\n",
    "        #linecolor=\"black\",\n",
    "        xticklabels=[],\n",
    "        yticklabels=[],\n",
    "        square=True,\n",
    "        cbar=False\n",
    "        )\n",
    "\n",
    "        Aux.imshow(MAZEIMAGE,\n",
    "          aspect = Aux.get_aspect(),\n",
    "          extent = Aux.get_xlim() + Aux.get_ylim(),\n",
    "          zorder = 1) #put the map under the heatmap"
   ]
  },
  {
   "cell_type": "code",
   "execution_count": 7,
   "metadata": {},
   "outputs": [],
   "source": [
    "def ConvertStateActionToPositionTable(s, a, Environment=Maze):\n",
    "    Worldsize = Environment.shape\n",
    "    return (s[0]*Worldsize[1] + s[1], ACTIONS.index(a))"
   ]
  },
  {
   "cell_type": "code",
   "execution_count": 8,
   "metadata": {},
   "outputs": [],
   "source": [
    "def PolicyActionEvaluation(\n",
    "        Policy,\n",
    "        Environment=Maze,\n",
    "        Rewards={'tired':0, 'cheese':1},\n",
    "        DiscountRate=0.97,\n",
    "        NumberIterations=100,\n",
    "        DeterministicPolicy=True,\n",
    "        Slippery=False,\n",
    "        SlipperyDistribution=None,\n",
    "        Story=False\n",
    "    ):\n",
    "    # If Slippery is True, we have to give the SlipperyDistribution also\n",
    "\n",
    "    Worldsize = Environment.shape\n",
    "\n",
    "    QTable = np.zeros((Worldsize[0]*Worldsize[1], len(ACTIONS)))\n",
    "\n",
    "    for _ in range(NumberIterations):\n",
    "        NewQTable = np.zeros((Worldsize[0]*Worldsize[1], len(ACTIONS)))\n",
    "        for i in range(Worldsize[0]):\n",
    "            for j in range(Worldsize[1]):\n",
    "                if (i,j) not in CHEESEPOSITION:\n",
    "                    if DeterministicPolicy:\n",
    "                        # Deterministic Policy\n",
    "                        if not Slippery:\n",
    "                            # Deterministic Environment\n",
    "                            Action = Policy((i,j))\n",
    "                            NextPosition, Reward = NextStateAndReward((i,j), Action, Rewards, Environment)\n",
    "\n",
    "                            Aux = 0\n",
    "                            if NextPosition not in CHEESEPOSITION:\n",
    "                                ActionPrime = Policy(NextPosition)\n",
    "                                Aux += QTable[ConvertStateActionToPositionTable(NextPosition, ActionPrime, Environment)]\n",
    "\n",
    "                            NewQTable[ConvertStateActionToPositionTable((i,j), Action, Environment)] += Reward + DiscountRate * Aux\n",
    "                        else:\n",
    "                            # Stochastic Environment\n",
    "                            Action = Policy((i,j))\n",
    "                            # We have to take into account the distribution of possible actions\n",
    "                            for ActualAction in SlipperyDistribution[Action]:\n",
    "                                ProbActualAction = SlipperyDistribution[Action][ActualAction]\n",
    "                                NextPosition, Reward = NextStateAndReward((i,j), ActualAction, Rewards, Environment)\n",
    "\n",
    "                                Aux = 0\n",
    "                                if NextPosition not in CHEESEPOSITION:\n",
    "                                    ActionPrime = Policy(NextPosition)\n",
    "                                    Aux += QTable[ConvertStateActionToPositionTable(NextPosition, ActionPrime, Environment)]\n",
    "\n",
    "                                NewQTable[ConvertStateActionToPositionTable((i,j), Action, Environment)] += ProbActualAction * (Reward + DiscountRate * Aux)\n",
    "                    else:\n",
    "                        # Stochastic Policy\n",
    "                        if not Slippery:\n",
    "                            # Deterministic Environment\n",
    "                            for Action in Policy((i,j), Environment):\n",
    "                                NextPosition, Reward = NextStateAndReward((i,j), Action, Rewards, Environment)\n",
    "\n",
    "                                Aux = 0\n",
    "                                if NextPosition not in CHEESEPOSITION:\n",
    "                                    for ActionPrime in Policy(NextPosition, Environment):\n",
    "                                        ProbActionPrime = Policy(NextPosition, Environment)[ActionPrime]\n",
    "                                        Aux += ProbActionPrime * QTable[ConvertStateActionToPositionTable(NextPosition, ActionPrime, Environment)]\n",
    "\n",
    "                                NewQTable[ConvertStateActionToPositionTable((i,j), Action, Environment)] += Reward + DiscountRate * Aux\n",
    "                        else:\n",
    "                            # Stochastic Environment\n",
    "                            for Action in Policy((i,j), Environment):\n",
    "                                # We have to take into account the distribution of possible actions\n",
    "                                for ActualAction in SlipperyDistribution[Action]:\n",
    "                                    ProbActualAction = SlipperyDistribution[Action][ActualAction]\n",
    "                                    NextPosition, Reward = NextStateAndReward((i,j), ActualAction, Rewards, Environment)\n",
    "\n",
    "                                    Aux = 0\n",
    "                                    if NextPosition not in CHEESEPOSITION:\n",
    "                                        for ActionPrime in Policy(NextPosition, Environment):\n",
    "                                            ProbActionPrime = Policy(NextPosition, Environment)[ActionPrime]\n",
    "                                            Aux += ProbActionPrime * QTable[ConvertStateActionToPositionTable(NextPosition, ActionPrime, Environment)]\n",
    "                                    \n",
    "                                    NewQTable[ConvertStateActionToPositionTable((i,j), Action, Environment)] += ProbActualAction * (Reward + DiscountRate * Aux)\n",
    "                    \n",
    "                else:\n",
    "                    pass\n",
    "\n",
    "        QTable = np.copy(NewQTable)\n",
    "\n",
    "        if Story:\n",
    "            print(QTable.round(2))\n",
    "            print(  )\n",
    "\n",
    "    return(QTable)"
   ]
  },
  {
   "cell_type": "markdown",
   "metadata": {},
   "source": [
    "# 5 Iterative policy improvement"
   ]
  },
  {
   "cell_type": "code",
   "execution_count": 9,
   "metadata": {},
   "outputs": [],
   "source": [
    "def GreedyPolicy(QTable, Environment=Maze):\n",
    "    Worldsize = Environment.shape\n",
    "\n",
    "    Policy = []\n",
    "\n",
    "    for s in range(len(QTable)):\n",
    "        if np.all(np.isclose(QTable[s], QTable[s][0])):\n",
    "            Policy.append(random.choice(ACTIONS))\n",
    "        else:\n",
    "            Policy.append(ACTIONS[np.argmax(QTable[s])])\n",
    "\n",
    "    Policy = np.array(Policy).reshape((Worldsize[0],Worldsize[1]))\n",
    "\n",
    "    for i in range(Worldsize[0]):\n",
    "        for j in range(Worldsize[1]):\n",
    "            if (i,j) in CHEESEPOSITION:\n",
    "                Policy[i,j] = ''\n",
    "\n",
    "    return Policy"
   ]
  },
  {
   "cell_type": "code",
   "execution_count": 10,
   "metadata": {},
   "outputs": [],
   "source": [
    "def ValueFromQTable(QTable, Policy, Environment=Maze, DeterministicPolicy=True):\n",
    "    Worldsize = Environment.shape\n",
    "\n",
    "    StateValue = np.zeros(Worldsize)\n",
    "    \n",
    "    for i in range(Worldsize[0]):\n",
    "        for j in range(Worldsize[1]):\n",
    "            if (i,j) not in CHEESEPOSITION:\n",
    "                if DeterministicPolicy:\n",
    "                    # Deterministic Policy\n",
    "                    Action = Policy((i,j))\n",
    "                    StateValue[i,j] = QTable[ConvertStateActionToPositionTable((i,j), Action, Environment)]\n",
    "                else:\n",
    "                    # Stochastic Policy\n",
    "                    for Action in Policy((i,j), Environment):\n",
    "                        ProbAction = Policy((i,j), Environment)[Action]\n",
    "                        StateValue[i,j] += ProbAction * QTable[ConvertStateActionToPositionTable((i,j), Action, Environment)]\n",
    "\n",
    "    return StateValue"
   ]
  },
  {
   "cell_type": "code",
   "execution_count": 11,
   "metadata": {},
   "outputs": [],
   "source": [
    "def PolicyIterativeEstimation(\n",
    "        Policy,\n",
    "        Environment=Maze,\n",
    "        Rewards={'tired':0, 'cheese':1},\n",
    "        DiscountRate=0.97,\n",
    "        NumberIterations=100,\n",
    "        DeterministicPolicy=True,\n",
    "        Slippery=False,\n",
    "        SlipperyDistribution=None,\n",
    "        Story=False\n",
    "    ):\n",
    "    for _ in range(NumberIterations):\n",
    "        # Policy Evaluation\n",
    "        QTable = PolicyActionEvaluation(\n",
    "            Policy,\n",
    "            Environment,\n",
    "            Rewards,\n",
    "            DiscountRate,\n",
    "            NumberIterations,\n",
    "            DeterministicPolicy,\n",
    "            Slippery,\n",
    "            SlipperyDistribution,\n",
    "            Story\n",
    "        )\n",
    "\n",
    "        ValuePolicy = ValueFromQTable(\n",
    "            QTable,\n",
    "            Policy,\n",
    "            Environment,\n",
    "            DeterministicPolicy\n",
    "        )\n",
    "\n",
    "        # Policy Improvement\n",
    "        PolicyArray = GreedyPolicy(QTable, Environment)\n",
    "        if not DeterministicPolicy:\n",
    "            DeterministicPolicy = True\n",
    "\n",
    "        def Policy(Position):\n",
    "            return PolicyArray[Position]\n",
    "\n",
    "        if Story:\n",
    "            print(\"QTable:\\n\")\n",
    "            print(QTable.round(2))\n",
    "            print(  )\n",
    "\n",
    "            print(\"State Value:\\n\")\n",
    "            print(ValuePolicy.round(2))\n",
    "            print(  )\n",
    "\n",
    "            print(\"k:{}\\n\".format(_+1))\n",
    "            print(\"Policy:\\n\")\n",
    "            print(np.vectorize(ACTIONSYMBOLS.get)(PolicyArray))\n",
    "            print(  )\n",
    "\n",
    "    return PolicyArray, ValuePolicy"
   ]
  },
  {
   "cell_type": "markdown",
   "metadata": {},
   "source": [
    "---"
   ]
  },
  {
   "cell_type": "markdown",
   "metadata": {},
   "source": [
    "# 1 Policy"
   ]
  },
  {
   "cell_type": "code",
   "execution_count": 12,
   "metadata": {},
   "outputs": [],
   "source": [
    "def Policy4(Position, Environment=Maze):\n",
    "    Distribution = {'up':0.25, 'down':0.25, 'left':0.25, 'right':0.25}\n",
    "\n",
    "    if Position not in CHEESEPOSITION:\n",
    "        return Distribution\n",
    "    else:\n",
    "        return None"
   ]
  },
  {
   "cell_type": "markdown",
   "metadata": {},
   "source": [
    "# 2 State-action value function evaluation"
   ]
  },
  {
   "cell_type": "code",
   "execution_count": 13,
   "metadata": {},
   "outputs": [
    {
     "data": {
      "image/png": "[encoded data removed]",
      "text/plain": [
       "<Figure size 640x480 with 1 Axes>"
      ]
     },
     "metadata": {},
     "output_type": "display_data"
    }
   ],
   "source": [
    "QTablePolicy4 = PolicyActionEvaluation(Policy=Policy4, DeterministicPolicy=False)\n",
    "ValuePolicy4 = ValueFromQTable(QTablePolicy4, Policy4, DeterministicPolicy=False)\n",
    "PlotPolicyValue(Policy4, ValuePolicy4, DeterministicPolicy=False)"
   ]
  },
  {
   "cell_type": "markdown",
   "metadata": {},
   "source": [
    "# 3 Iterative policy improvement"
   ]
  },
  {
   "cell_type": "code",
   "execution_count": 14,
   "metadata": {},
   "outputs": [
    {
     "data": {
      "image/png": "[encoded data removed]",
      "text/plain": [
       "<Figure size 640x480 with 1 Axes>"
      ]
     },
     "metadata": {},
     "output_type": "display_data"
    }
   ],
   "source": [
    "PolicyStar, ValueStar = PolicyIterativeEstimation(Policy4, DeterministicPolicy=False)\n",
    "PlotPolicyValue(PolicyStar, ValueStar)"
   ]
  }
 ],
 "metadata": {
  "kernelspec": {
   "display_name": "Python 3",
   "language": "python",
   "name": "python3"
  },
  "language_info": {
   "codemirror_mode": {
    "name": "ipython",
    "version": 3
   },
   "file_extension": ".py",
   "mimetype": "text/x-python",
   "name": "python",
   "nbconvert_exporter": "python",
   "pygments_lexer": "ipython3",
   "version": "3.12.3"
  }
 },
 "nbformat": 4,
 "nbformat_minor": 2
}
