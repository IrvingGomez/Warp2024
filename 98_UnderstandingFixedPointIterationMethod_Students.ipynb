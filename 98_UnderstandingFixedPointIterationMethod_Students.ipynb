{
 "cells": [
  {
   "cell_type": "code",
   "execution_count": 2,
   "metadata": {},
   "outputs": [],
   "source": [
    "import numpy as np"
   ]
  },
  {
   "cell_type": "markdown",
   "metadata": {},
   "source": [
    "If we want the root of the function $x^2-x-1$. That is, we want the values of $x$ that satisfy\n",
    "\n",
    "$$x^2-x-1=0,$$\n",
    "\n",
    "we can use the fact that, this equation it can be rewritten as\n",
    "\n",
    "$$x=1+\\frac{1}{x},$$\n",
    "\n",
    "and use the fixed-point iterative method."
   ]
  },
  {
   "cell_type": "markdown",
   "metadata": {},
   "source": [
    "---"
   ]
  },
  {
   "cell_type": "markdown",
   "metadata": {},
   "source": [
    "If we want the root of the function $x^2-\\sin(x)$. That is, we want the values of $x$ that satisfy\n",
    "\n",
    "$$x^2-\\sin(x)=0,$$\n",
    "\n",
    "we can use the fact that, this equation it can be rewritten as\n",
    "\n",
    "$$x=\\frac{\\sin(x)}{x},$$\n",
    "\n",
    "and use the fixed-point iterative method."
   ]
  },
  {
   "cell_type": "code",
   "execution_count": 8,
   "metadata": {},
   "outputs": [],
   "source": [
    "class IterativePoint:\n",
    "    \n",
    "    def __init__(self, X0, Fun='quadratic', NumberIterations=10):\n",
    "        if Fun == 'quadratic':\n",
    "            def f(x):\n",
    "                return x**2-x-1 \n",
    "\n",
    "            def fixed_point(x):\n",
    "                return 1+1/x\n",
    "        \n",
    "        elif Fun == 'sin':\n",
    "            pass\n",
    "            \n",
    "        self.numberiterations = NumberIterations\n",
    "        self.x0 = X0\n",
    "        self.f = f\n",
    "        self.fixed_point = fixed_point\n",
    "        \n",
    "\n",
    "    def IterativeLearning(self):\n",
    "        x = self.x0\n",
    "        self.approx = [x]\n",
    "        self.f_approx = [round(self.f(x),4)]\n",
    "\n",
    "        for _ in range(self.numberiterations):\n",
    "            x = self.fixed_point(x)\n",
    "            self.f_approx.append(round(self.f(x),4))\n",
    "            self.approx.append(x)"
   ]
  },
  {
   "cell_type": "markdown",
   "metadata": {},
   "source": [
    "---"
   ]
  },
  {
   "cell_type": "code",
   "execution_count": 9,
   "metadata": {},
   "outputs": [],
   "source": [
    "Quadratic2 = IterativePoint(X0=2)\n",
    "Quadratic2.IterativeLearning()\n",
    "#Quadratic2.Plot(XVect = np.linspace(0.5,3,100))"
   ]
  },
  {
   "cell_type": "code",
   "execution_count": 10,
   "metadata": {},
   "outputs": [
    {
     "data": {
      "text/plain": [
       "[2,\n",
       " 1.5,\n",
       " 1.6666666666666665,\n",
       " 1.6,\n",
       " 1.625,\n",
       " 1.6153846153846154,\n",
       " 1.619047619047619,\n",
       " 1.6176470588235294,\n",
       " 1.6181818181818182,\n",
       " 1.6179775280898876,\n",
       " 1.6180555555555556]"
      ]
     },
     "execution_count": 10,
     "metadata": {},
     "output_type": "execute_result"
    }
   ],
   "source": [
    "Quadratic2.approx"
   ]
  },
  {
   "cell_type": "code",
   "execution_count": null,
   "metadata": {},
   "outputs": [],
   "source": [
    "#Quadratic_2 = IterativePoint(X0=-2)\n",
    "#Quadratic_2.IterativeLearning()\n",
    "#Quadratic_2.Plot(XVect = np.linspace(-2,3,100), YLim=(-5,5))"
   ]
  },
  {
   "cell_type": "markdown",
   "metadata": {},
   "source": [
    "---"
   ]
  },
  {
   "cell_type": "code",
   "execution_count": null,
   "metadata": {},
   "outputs": [],
   "source": [
    "#Sin = IterativePoint(X0=2, Fun='sin')\n",
    "#Sin.IterativeLearning()\n",
    "#Sin.Plot(XVect = np.linspace(0,3,100))"
   ]
  }
 ],
 "metadata": {
  "kernelspec": {
   "display_name": "Python 3",
   "language": "python",
   "name": "python3"
  },
  "language_info": {
   "codemirror_mode": {
    "name": "ipython",
    "version": 3
   },
   "file_extension": ".py",
   "mimetype": "text/x-python",
   "name": "python",
   "nbconvert_exporter": "python",
   "pygments_lexer": "ipython3",
   "version": "3.12.3"
  }
 },
 "nbformat": 4,
 "nbformat_minor": 2
}
